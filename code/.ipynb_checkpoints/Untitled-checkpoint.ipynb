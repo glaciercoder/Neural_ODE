{
 "cells": [
  {
   "cell_type": "code",
   "execution_count": null,
   "id": "e672f9d2",
   "metadata": {},
   "outputs": [],
   "source": [
    "import Pkg\n",
    "Pkg.add(\"DiffEqFlux\")"
   ]
  },
  {
   "cell_type": "code",
   "execution_count": null,
   "id": "ac4bdfcd",
   "metadata": {},
   "outputs": [],
   "source": [
    "using Base: Forward\n",
    "using DiffEqFlux, OrdinaryDiffEq, Flux, Optim, Plots\n",
    "using DiffEqSensitivity\n",
    "using Zygote\n",
    "using Sundials\n",
    "using ForwardDiff\n",
    "using LinearAlgebra\n",
    "using Random\n",
    "using Statistics\n",
    "using ProgressBars, Printf\n",
    "using Flux.Optimise: update!\n",
    "using Flux.Losses: mae, mse\n",
    "using BSON: @save, @load"
   ]
  },
  {
   "cell_type": "code",
   "execution_count": null,
   "id": "13f05535",
   "metadata": {},
   "outputs": [],
   "source": []
  }
 ],
 "metadata": {
  "kernelspec": {
   "display_name": "Julia 1.6.1",
   "language": "julia",
   "name": "julia-1.6"
  },
  "language_info": {
   "file_extension": ".jl",
   "mimetype": "application/julia",
   "name": "julia",
   "version": "1.6.1"
  }
 },
 "nbformat": 4,
 "nbformat_minor": 5
}
